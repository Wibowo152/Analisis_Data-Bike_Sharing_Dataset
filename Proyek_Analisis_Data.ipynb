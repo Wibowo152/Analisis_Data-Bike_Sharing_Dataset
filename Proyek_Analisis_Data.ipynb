{
  "cells": [
    {
      "cell_type": "markdown",
      "metadata": {
        "id": "H9wADwK78DCz"
      },
      "source": [
        "# Proyek Analisis Data: Bike Sharing Dataset\n",
        "- **Nama        :** Vincensius Agung Wibowo Joyopranoto\n",
        "- **Email       :** m409b4ky4423@bangkit.academy\n",
        "- **ID Dicoding :** furies_152"
      ]
    },
    {
      "cell_type": "markdown",
      "metadata": {
        "id": "eE0raob58DC0"
      },
      "source": [
        "## Menentukan Pertanyaan Bisnis"
      ]
    },
    {
      "cell_type": "markdown",
      "metadata": {},
      "source": [
        "1. Berapa total sewa sepeda tertinggi di setiap bulan dari tahun 2011 hingga 2012?"
      ]
    },
    {
      "cell_type": "markdown",
      "metadata": {
        "id": "GmQeQ5YF8DC0"
      },
      "source": [
        "2. Pada jam berapa penyewaan sepeda mengalami puncaknya (tahun 2011 - 2012)?\n"
      ]
    },
    {
      "cell_type": "markdown",
      "metadata": {
        "id": "H-z4QGlO8DC1"
      },
      "source": [
        "## Import Semua Packages/Library yang Digunakan"
      ]
    },
    {
      "cell_type": "code",
      "execution_count": 1,
      "metadata": {
        "id": "FVYwaObI8DC1"
      },
      "outputs": [],
      "source": [
        "import numpy as np\n",
        "import pandas as pd\n",
        "import matplotlib.pyplot as mpl\n",
        "import seaborn as sb"
      ]
    },
    {
      "cell_type": "markdown",
      "metadata": {
        "id": "h_Sh51Xy8DC1"
      },
      "source": [
        "## Data Wrangling"
      ]
    },
    {
      "cell_type": "markdown",
      "metadata": {
        "id": "sXU2GBYu8DC1"
      },
      "source": [
        "### Gathering Data"
      ]
    },
    {
      "cell_type": "markdown",
      "metadata": {},
      "source": [
        "Melakukan Proses Untuk Membaca Dataset 'day.csv' dan 'hour.csv'"
      ]
    },
    {
      "cell_type": "code",
      "execution_count": 3,
      "metadata": {
        "id": "zjCBk1BI8DC1"
      },
      "outputs": [
        {
          "name": "stdout",
          "output_type": "stream",
          "text": [
            "Data Tabel_Hari\n",
            "     instant      dteday  season  yr  mnth  holiday  weekday  workingday  \\\n",
            "0          1  2011-01-01       1   0     1        0        6           0   \n",
            "1          2  2011-01-02       1   0     1        0        0           0   \n",
            "2          3  2011-01-03       1   0     1        0        1           1   \n",
            "3          4  2011-01-04       1   0     1        0        2           1   \n",
            "4          5  2011-01-05       1   0     1        0        3           1   \n",
            "..       ...         ...     ...  ..   ...      ...      ...         ...   \n",
            "726      727  2012-12-27       1   1    12        0        4           1   \n",
            "727      728  2012-12-28       1   1    12        0        5           1   \n",
            "728      729  2012-12-29       1   1    12        0        6           0   \n",
            "729      730  2012-12-30       1   1    12        0        0           0   \n",
            "730      731  2012-12-31       1   1    12        0        1           1   \n",
            "\n",
            "     weathersit      temp     atemp       hum  windspeed  casual  registered  \\\n",
            "0             2  0.344167  0.363625  0.805833   0.160446     331         654   \n",
            "1             2  0.363478  0.353739  0.696087   0.248539     131         670   \n",
            "2             1  0.196364  0.189405  0.437273   0.248309     120        1229   \n",
            "3             1  0.200000  0.212122  0.590435   0.160296     108        1454   \n",
            "4             1  0.226957  0.229270  0.436957   0.186900      82        1518   \n",
            "..          ...       ...       ...       ...        ...     ...         ...   \n",
            "726           2  0.254167  0.226642  0.652917   0.350133     247        1867   \n",
            "727           2  0.253333  0.255046  0.590000   0.155471     644        2451   \n",
            "728           2  0.253333  0.242400  0.752917   0.124383     159        1182   \n",
            "729           1  0.255833  0.231700  0.483333   0.350754     364        1432   \n",
            "730           2  0.215833  0.223487  0.577500   0.154846     439        2290   \n",
            "\n",
            "      cnt  \n",
            "0     985  \n",
            "1     801  \n",
            "2    1349  \n",
            "3    1562  \n",
            "4    1600  \n",
            "..    ...  \n",
            "726  2114  \n",
            "727  3095  \n",
            "728  1341  \n",
            "729  1796  \n",
            "730  2729  \n",
            "\n",
            "[731 rows x 16 columns]\n",
            "\n",
            "\n",
            "Data Tabel_Jam\n",
            "   instant      dteday  season  yr  mnth  hr  holiday  weekday  workingday  \\\n",
            "0        1  2011-01-01       1   0     1   0        0        6           0   \n",
            "1        2  2011-01-01       1   0     1   1        0        6           0   \n",
            "2        3  2011-01-01       1   0     1   2        0        6           0   \n",
            "3        4  2011-01-01       1   0     1   3        0        6           0   \n",
            "4        5  2011-01-01       1   0     1   4        0        6           0   \n",
            "\n",
            "   weathersit  temp   atemp   hum  windspeed  casual  registered  cnt  \n",
            "0           1  0.24  0.2879  0.81        0.0       3          13   16  \n",
            "1           1  0.22  0.2727  0.80        0.0       8          32   40  \n",
            "2           1  0.22  0.2727  0.80        0.0       5          27   32  \n",
            "3           1  0.24  0.2879  0.75        0.0       3          10   13  \n",
            "4           1  0.24  0.2879  0.75        0.0       0           1    1  \n",
            "\n",
            "\n"
          ]
        }
      ],
      "source": [
        "# Membaca Dataset \n",
        "tabel_hari = pd.read_csv('data/day.csv')\n",
        "tabel_jam = pd.read_csv('data/hour.csv')\n",
        "\n",
        "# Menampilkan Lima Data Pertama Dari Dataset \n",
        "print(\"Data Tabel_Hari\")\n",
        "print(tabel_hari)\n",
        "print(\"\\n\")\n",
        "\n",
        "print(\"Data Tabel_Jam\")\n",
        "print(tabel_jam.head())\n",
        "print(\"\\n\")"
      ]
    },
    {
      "cell_type": "markdown",
      "metadata": {
        "id": "MMi6xGaDkbCi"
      },
      "source": [
        "**Insight:**\n",
        "- Pada bagian diatas menjelaskan untuk melakukan pembacaan dataset 'day.csv' dan 'hour.csv' yang kemudian dimasukan dalam variabel 'tabel_hari' dan 'tabel jam'. Pada baris selanjutnya memberikan perintah untuk menampilkan 5 data pertama pada masing-masing dataset "
      ]
    },
    {
      "cell_type": "markdown",
      "metadata": {
        "id": "FHSiqaZp8DC1"
      },
      "source": [
        "### Assessing Data"
      ]
    },
    {
      "cell_type": "markdown",
      "metadata": {},
      "source": [
        "Melakukan Proses Pengelompokan Informasi, Missing Value, Duplicate Data, dan Statistik Data dari Tabel_Hari"
      ]
    },
    {
      "cell_type": "code",
      "execution_count": 6,
      "metadata": {},
      "outputs": [
        {
          "name": "stdout",
          "output_type": "stream",
          "text": [
            "\n",
            "Day Information: \n",
            "\n",
            "<class 'pandas.core.frame.DataFrame'>\n",
            "RangeIndex: 731 entries, 0 to 730\n",
            "Data columns (total 16 columns):\n",
            " #   Column      Non-Null Count  Dtype  \n",
            "---  ------      --------------  -----  \n",
            " 0   instant     731 non-null    int64  \n",
            " 1   dteday      731 non-null    object \n",
            " 2   season      731 non-null    int64  \n",
            " 3   yr          731 non-null    int64  \n",
            " 4   mnth        731 non-null    int64  \n",
            " 5   holiday     731 non-null    int64  \n",
            " 6   weekday     731 non-null    int64  \n",
            " 7   workingday  731 non-null    int64  \n",
            " 8   weathersit  731 non-null    int64  \n",
            " 9   temp        731 non-null    float64\n",
            " 10  atemp       731 non-null    float64\n",
            " 11  hum         731 non-null    float64\n",
            " 12  windspeed   731 non-null    float64\n",
            " 13  casual      731 non-null    int64  \n",
            " 14  registered  731 non-null    int64  \n",
            " 15  cnt         731 non-null    int64  \n",
            "dtypes: float64(4), int64(11), object(1)\n",
            "memory usage: 91.5+ KB\n",
            "None\n",
            "\n",
            "\n",
            "\n",
            "Missing Value: \n",
            "\n",
            "instant       0\n",
            "dteday        0\n",
            "season        0\n",
            "yr            0\n",
            "mnth          0\n",
            "holiday       0\n",
            "weekday       0\n",
            "workingday    0\n",
            "weathersit    0\n",
            "temp          0\n",
            "atemp         0\n",
            "hum           0\n",
            "windspeed     0\n",
            "casual        0\n",
            "registered    0\n",
            "cnt           0\n",
            "dtype: int64\n",
            "\n",
            "\n",
            "\n",
            "Duplicate Data: \n",
            "\n",
            "0\n",
            "\n",
            "\n",
            "\n",
            "Statistical Data: \n",
            "\n",
            "instant        3138.165812\n",
            "season          747.607387\n",
            "yr              735.001026\n",
            "mnth            774.971749\n",
            "holiday         732.195883\n",
            "weekday         751.002051\n",
            "workingday      735.149228\n",
            "weathersit      740.940243\n",
            "temp            734.090066\n",
            "atemp           733.990458\n",
            "hum             734.619699\n",
            "windspeed       732.346978\n",
            "casual         7802.298959\n",
            "registered    23848.928744\n",
            "cnt           29564.560289\n",
            "dtype: float64\n",
            "\n",
            "\n"
          ]
        }
      ],
      "source": [
        "# Menampilkan informasi data 'tabel_hari'\n",
        "print(\"\\nDay Information: \\n\")\n",
        "print(tabel_hari.info())\n",
        "print(\"\\n\")\n",
        "\n",
        "# Menampilkan missing value data 'tabel_hari'\n",
        "print(\"\\nMissing Value: \\n\")\n",
        "print(tabel_hari.isnull().sum())\n",
        "print(\"\\n\")\n",
        "\n",
        "# Menampilkan duplicated data 'tabel_hari'\n",
        "print(\"\\nDuplicate Data: \\n\")\n",
        "print(tabel_hari.duplicated().sum())\n",
        "print(\"\\n\")\n",
        "\n",
        "# Menampilkan statictik data 'tabel_hari'\n",
        "print(\"\\nStatistical Data: \\n\")\n",
        "print(tabel_hari.describe().sum())\n",
        "print(\"\\n\")"
      ]
    },
    {
      "cell_type": "markdown",
      "metadata": {},
      "source": [
        "Melakukan Proses Pengelompokan Informasi, Missing Value, Duplicate Data, dan Statistik Data dari Tabel_Jam"
      ]
    },
    {
      "cell_type": "code",
      "execution_count": 4,
      "metadata": {
        "id": "ax-3tEjc9Cj1"
      },
      "outputs": [
        {
          "name": "stdout",
          "output_type": "stream",
          "text": [
            "\n",
            "Day Information: \n",
            "\n",
            "<class 'pandas.core.frame.DataFrame'>\n",
            "RangeIndex: 17379 entries, 0 to 17378\n",
            "Data columns (total 17 columns):\n",
            " #   Column      Non-Null Count  Dtype  \n",
            "---  ------      --------------  -----  \n",
            " 0   instant     17379 non-null  int64  \n",
            " 1   dteday      17379 non-null  object \n",
            " 2   season      17379 non-null  int64  \n",
            " 3   yr          17379 non-null  int64  \n",
            " 4   mnth        17379 non-null  int64  \n",
            " 5   hr          17379 non-null  int64  \n",
            " 6   holiday     17379 non-null  int64  \n",
            " 7   weekday     17379 non-null  int64  \n",
            " 8   workingday  17379 non-null  int64  \n",
            " 9   weathersit  17379 non-null  int64  \n",
            " 10  temp        17379 non-null  float64\n",
            " 11  atemp       17379 non-null  float64\n",
            " 12  hum         17379 non-null  float64\n",
            " 13  windspeed   17379 non-null  float64\n",
            " 14  casual      17379 non-null  int64  \n",
            " 15  registered  17379 non-null  int64  \n",
            " 16  cnt         17379 non-null  int64  \n",
            "dtypes: float64(4), int64(12), object(1)\n",
            "memory usage: 2.3+ MB\n",
            "None\n",
            "\n",
            "\n",
            "\n",
            "Missing Value: \n",
            "\n",
            "instant       0\n",
            "dteday        0\n",
            "season        0\n",
            "yr            0\n",
            "mnth          0\n",
            "hr            0\n",
            "holiday       0\n",
            "weekday       0\n",
            "workingday    0\n",
            "weathersit    0\n",
            "temp          0\n",
            "atemp         0\n",
            "hum           0\n",
            "windspeed     0\n",
            "casual        0\n",
            "registered    0\n",
            "cnt           0\n",
            "dtype: int64\n",
            "\n",
            "\n",
            "\n",
            "Duplicate Data: \n",
            "\n",
            "0\n",
            "\n",
            "\n",
            "\n",
            "Statistical Data: \n",
            "\n",
            "instant       74536.029500\n",
            "season        17395.608558\n",
            "yr            17383.002568\n",
            "mnth          17422.976551\n",
            "hr            17456.461157\n",
            "holiday       17380.195936\n",
            "weekday       17399.009454\n",
            "workingday    17383.148151\n",
            "weathersit    17390.064640\n",
            "temp          17382.209543\n",
            "atemp         17382.086925\n",
            "hum           17382.710159\n",
            "windspeed     17380.715338\n",
            "casual        17899.981249\n",
            "registered    18939.144155\n",
            "cnt           19190.850687\n",
            "dtype: float64\n",
            "\n",
            "\n"
          ]
        }
      ],
      "source": [
        "# Menampilkan informasi data 'tabel_jam'\n",
        "print(\"\\nDay Information: \\n\")\n",
        "print(tabel_jam.info())\n",
        "print(\"\\n\")\n",
        "\n",
        "# Menampilkan missing value data 'tabel_jam'\n",
        "print(\"\\nMissing Value: \\n\")\n",
        "print(tabel_jam.isnull().sum())\n",
        "print(\"\\n\")\n",
        "\n",
        "# Menampilkan duplicated data 'tabel_jam'\n",
        "print(\"\\nDuplicate Data: \\n\")\n",
        "print(tabel_jam.duplicated().sum())\n",
        "print(\"\\n\")\n",
        "\n",
        "# Menampilkan statictik data 'tabel_jam'\n",
        "print(\"\\nStatistical Data: \\n\")\n",
        "print(tabel_jam.describe().sum())\n",
        "print(\"\\n\")"
      ]
    },
    {
      "cell_type": "markdown",
      "metadata": {
        "id": "7dtxhAPrkhPL"
      },
      "source": [
        "**Insight:**\n",
        "- Dari code diatas berfungsi untuk memberikan informasi data 'tabel_hari' dan 'tabel_jam'\n",
        "1. informasi data           => info()\n",
        "2. kesalahan nilai data     => isnull()\n",
        "3. data duplikat            => duplicated()\n",
        "4. data statistik dari      => describe()"
      ]
    },
    {
      "cell_type": "markdown",
      "metadata": {
        "id": "EhN5R4hr8DC1"
      },
      "source": [
        "### Cleaning Data"
      ]
    },
    {
      "cell_type": "markdown",
      "metadata": {},
      "source": [
        "Melakukan Proses Penghapusan Data Yang Terduplikat Pada 'tabel_hari' dan 'tabel_jam'"
      ]
    },
    {
      "cell_type": "code",
      "execution_count": 5,
      "metadata": {
        "id": "jVnYpprE9Evz"
      },
      "outputs": [
        {
          "name": "stdout",
          "output_type": "stream",
          "text": [
            "None\n",
            "Jumlah Data Terduplikasi Pada Tabel_Hari:  0\n",
            "\n",
            "\n",
            "None\n",
            "Jumlah Data Terduplikasi Pada Tabel_Jam:  0\n",
            "\n",
            "\n"
          ]
        }
      ],
      "source": [
        "# Menghapus data yang terduplikat pada 'tabel_hari'\n",
        "print(tabel_hari.drop_duplicates(inplace=True))\n",
        "print(\"Jumlah Data Terduplikasi Pada Tabel_Hari: \", tabel_hari.duplicated().sum())\n",
        "print(\"\\n\")\n",
        "\n",
        "# Menghapus data yang terduplikat pada 'tabel_jam'\n",
        "print(tabel_jam.drop_duplicates(inplace=True))\n",
        "print(\"Jumlah Data Terduplikasi Pada Tabel_Jam: \", tabel_jam.duplicated().sum())\n",
        "print(\"\\n\")"
      ]
    },
    {
      "cell_type": "markdown",
      "metadata": {
        "id": "Q_5ejIqckiSP"
      },
      "source": [
        "**Insight:**\n",
        "- Pada code diatas berfungsi untuk menghapus data duplikat pada 'tabel_hari' dan 'tabel_jam' yang berjumlah 0"
      ]
    },
    {
      "cell_type": "markdown",
      "metadata": {
        "id": "gp-Y6wU38DC1"
      },
      "source": [
        "## Exploratory Data Analysis (EDA)"
      ]
    },
    {
      "cell_type": "markdown",
      "metadata": {},
      "source": [
        "Melakukan Proses Pendeskripsian Data, Pengelompokan Data, dan Visualisasi Histogram "
      ]
    },
    {
      "cell_type": "code",
      "execution_count": 6,
      "metadata": {},
      "outputs": [
        {
          "data": {
            "text/html": [
              "<div>\n",
              "<style scoped>\n",
              "    .dataframe tbody tr th:only-of-type {\n",
              "        vertical-align: middle;\n",
              "    }\n",
              "\n",
              "    .dataframe tbody tr th {\n",
              "        vertical-align: top;\n",
              "    }\n",
              "\n",
              "    .dataframe thead th {\n",
              "        text-align: right;\n",
              "    }\n",
              "</style>\n",
              "<table border=\"1\" class=\"dataframe\">\n",
              "  <thead>\n",
              "    <tr style=\"text-align: right;\">\n",
              "      <th></th>\n",
              "      <th>instant</th>\n",
              "      <th>dteday</th>\n",
              "      <th>season</th>\n",
              "      <th>yr</th>\n",
              "      <th>mnth</th>\n",
              "      <th>hr</th>\n",
              "      <th>holiday</th>\n",
              "      <th>weekday</th>\n",
              "      <th>workingday</th>\n",
              "      <th>weathersit</th>\n",
              "      <th>temp</th>\n",
              "      <th>atemp</th>\n",
              "      <th>hum</th>\n",
              "      <th>windspeed</th>\n",
              "      <th>casual</th>\n",
              "      <th>registered</th>\n",
              "      <th>cnt</th>\n",
              "    </tr>\n",
              "  </thead>\n",
              "  <tbody>\n",
              "    <tr>\n",
              "      <th>count</th>\n",
              "      <td>17379.0000</td>\n",
              "      <td>17379</td>\n",
              "      <td>17379.000000</td>\n",
              "      <td>17379.000000</td>\n",
              "      <td>17379.000000</td>\n",
              "      <td>17379.000000</td>\n",
              "      <td>17379.000000</td>\n",
              "      <td>17379.000000</td>\n",
              "      <td>17379.000000</td>\n",
              "      <td>17379.000000</td>\n",
              "      <td>17379.000000</td>\n",
              "      <td>17379.000000</td>\n",
              "      <td>17379.000000</td>\n",
              "      <td>17379.000000</td>\n",
              "      <td>17379.000000</td>\n",
              "      <td>17379.000000</td>\n",
              "      <td>17379.000000</td>\n",
              "    </tr>\n",
              "    <tr>\n",
              "      <th>unique</th>\n",
              "      <td>NaN</td>\n",
              "      <td>731</td>\n",
              "      <td>NaN</td>\n",
              "      <td>NaN</td>\n",
              "      <td>NaN</td>\n",
              "      <td>NaN</td>\n",
              "      <td>NaN</td>\n",
              "      <td>NaN</td>\n",
              "      <td>NaN</td>\n",
              "      <td>NaN</td>\n",
              "      <td>NaN</td>\n",
              "      <td>NaN</td>\n",
              "      <td>NaN</td>\n",
              "      <td>NaN</td>\n",
              "      <td>NaN</td>\n",
              "      <td>NaN</td>\n",
              "      <td>NaN</td>\n",
              "    </tr>\n",
              "    <tr>\n",
              "      <th>top</th>\n",
              "      <td>NaN</td>\n",
              "      <td>2012-12-31</td>\n",
              "      <td>NaN</td>\n",
              "      <td>NaN</td>\n",
              "      <td>NaN</td>\n",
              "      <td>NaN</td>\n",
              "      <td>NaN</td>\n",
              "      <td>NaN</td>\n",
              "      <td>NaN</td>\n",
              "      <td>NaN</td>\n",
              "      <td>NaN</td>\n",
              "      <td>NaN</td>\n",
              "      <td>NaN</td>\n",
              "      <td>NaN</td>\n",
              "      <td>NaN</td>\n",
              "      <td>NaN</td>\n",
              "      <td>NaN</td>\n",
              "    </tr>\n",
              "    <tr>\n",
              "      <th>freq</th>\n",
              "      <td>NaN</td>\n",
              "      <td>24</td>\n",
              "      <td>NaN</td>\n",
              "      <td>NaN</td>\n",
              "      <td>NaN</td>\n",
              "      <td>NaN</td>\n",
              "      <td>NaN</td>\n",
              "      <td>NaN</td>\n",
              "      <td>NaN</td>\n",
              "      <td>NaN</td>\n",
              "      <td>NaN</td>\n",
              "      <td>NaN</td>\n",
              "      <td>NaN</td>\n",
              "      <td>NaN</td>\n",
              "      <td>NaN</td>\n",
              "      <td>NaN</td>\n",
              "      <td>NaN</td>\n",
              "    </tr>\n",
              "    <tr>\n",
              "      <th>mean</th>\n",
              "      <td>8690.0000</td>\n",
              "      <td>NaN</td>\n",
              "      <td>2.501640</td>\n",
              "      <td>0.502561</td>\n",
              "      <td>6.537775</td>\n",
              "      <td>11.546752</td>\n",
              "      <td>0.028770</td>\n",
              "      <td>3.003683</td>\n",
              "      <td>0.682721</td>\n",
              "      <td>1.425283</td>\n",
              "      <td>0.496987</td>\n",
              "      <td>0.475775</td>\n",
              "      <td>0.627229</td>\n",
              "      <td>0.190098</td>\n",
              "      <td>35.676218</td>\n",
              "      <td>153.786869</td>\n",
              "      <td>189.463088</td>\n",
              "    </tr>\n",
              "    <tr>\n",
              "      <th>std</th>\n",
              "      <td>5017.0295</td>\n",
              "      <td>NaN</td>\n",
              "      <td>1.106918</td>\n",
              "      <td>0.500008</td>\n",
              "      <td>3.438776</td>\n",
              "      <td>6.914405</td>\n",
              "      <td>0.167165</td>\n",
              "      <td>2.005771</td>\n",
              "      <td>0.465431</td>\n",
              "      <td>0.639357</td>\n",
              "      <td>0.192556</td>\n",
              "      <td>0.171850</td>\n",
              "      <td>0.192930</td>\n",
              "      <td>0.122340</td>\n",
              "      <td>49.305030</td>\n",
              "      <td>151.357286</td>\n",
              "      <td>181.387599</td>\n",
              "    </tr>\n",
              "    <tr>\n",
              "      <th>min</th>\n",
              "      <td>1.0000</td>\n",
              "      <td>NaN</td>\n",
              "      <td>1.000000</td>\n",
              "      <td>0.000000</td>\n",
              "      <td>1.000000</td>\n",
              "      <td>0.000000</td>\n",
              "      <td>0.000000</td>\n",
              "      <td>0.000000</td>\n",
              "      <td>0.000000</td>\n",
              "      <td>1.000000</td>\n",
              "      <td>0.020000</td>\n",
              "      <td>0.000000</td>\n",
              "      <td>0.000000</td>\n",
              "      <td>0.000000</td>\n",
              "      <td>0.000000</td>\n",
              "      <td>0.000000</td>\n",
              "      <td>1.000000</td>\n",
              "    </tr>\n",
              "    <tr>\n",
              "      <th>25%</th>\n",
              "      <td>4345.5000</td>\n",
              "      <td>NaN</td>\n",
              "      <td>2.000000</td>\n",
              "      <td>0.000000</td>\n",
              "      <td>4.000000</td>\n",
              "      <td>6.000000</td>\n",
              "      <td>0.000000</td>\n",
              "      <td>1.000000</td>\n",
              "      <td>0.000000</td>\n",
              "      <td>1.000000</td>\n",
              "      <td>0.340000</td>\n",
              "      <td>0.333300</td>\n",
              "      <td>0.480000</td>\n",
              "      <td>0.104500</td>\n",
              "      <td>4.000000</td>\n",
              "      <td>34.000000</td>\n",
              "      <td>40.000000</td>\n",
              "    </tr>\n",
              "    <tr>\n",
              "      <th>50%</th>\n",
              "      <td>8690.0000</td>\n",
              "      <td>NaN</td>\n",
              "      <td>3.000000</td>\n",
              "      <td>1.000000</td>\n",
              "      <td>7.000000</td>\n",
              "      <td>12.000000</td>\n",
              "      <td>0.000000</td>\n",
              "      <td>3.000000</td>\n",
              "      <td>1.000000</td>\n",
              "      <td>1.000000</td>\n",
              "      <td>0.500000</td>\n",
              "      <td>0.484800</td>\n",
              "      <td>0.630000</td>\n",
              "      <td>0.194000</td>\n",
              "      <td>17.000000</td>\n",
              "      <td>115.000000</td>\n",
              "      <td>142.000000</td>\n",
              "    </tr>\n",
              "    <tr>\n",
              "      <th>75%</th>\n",
              "      <td>13034.5000</td>\n",
              "      <td>NaN</td>\n",
              "      <td>3.000000</td>\n",
              "      <td>1.000000</td>\n",
              "      <td>10.000000</td>\n",
              "      <td>18.000000</td>\n",
              "      <td>0.000000</td>\n",
              "      <td>5.000000</td>\n",
              "      <td>1.000000</td>\n",
              "      <td>2.000000</td>\n",
              "      <td>0.660000</td>\n",
              "      <td>0.621200</td>\n",
              "      <td>0.780000</td>\n",
              "      <td>0.253700</td>\n",
              "      <td>48.000000</td>\n",
              "      <td>220.000000</td>\n",
              "      <td>281.000000</td>\n",
              "    </tr>\n",
              "    <tr>\n",
              "      <th>max</th>\n",
              "      <td>17379.0000</td>\n",
              "      <td>NaN</td>\n",
              "      <td>4.000000</td>\n",
              "      <td>1.000000</td>\n",
              "      <td>12.000000</td>\n",
              "      <td>23.000000</td>\n",
              "      <td>1.000000</td>\n",
              "      <td>6.000000</td>\n",
              "      <td>1.000000</td>\n",
              "      <td>4.000000</td>\n",
              "      <td>1.000000</td>\n",
              "      <td>1.000000</td>\n",
              "      <td>1.000000</td>\n",
              "      <td>0.850700</td>\n",
              "      <td>367.000000</td>\n",
              "      <td>886.000000</td>\n",
              "      <td>977.000000</td>\n",
              "    </tr>\n",
              "  </tbody>\n",
              "</table>\n",
              "</div>"
            ],
            "text/plain": [
              "           instant      dteday        season            yr          mnth  \\\n",
              "count   17379.0000       17379  17379.000000  17379.000000  17379.000000   \n",
              "unique         NaN         731           NaN           NaN           NaN   \n",
              "top            NaN  2012-12-31           NaN           NaN           NaN   \n",
              "freq           NaN          24           NaN           NaN           NaN   \n",
              "mean     8690.0000         NaN      2.501640      0.502561      6.537775   \n",
              "std      5017.0295         NaN      1.106918      0.500008      3.438776   \n",
              "min         1.0000         NaN      1.000000      0.000000      1.000000   \n",
              "25%      4345.5000         NaN      2.000000      0.000000      4.000000   \n",
              "50%      8690.0000         NaN      3.000000      1.000000      7.000000   \n",
              "75%     13034.5000         NaN      3.000000      1.000000     10.000000   \n",
              "max     17379.0000         NaN      4.000000      1.000000     12.000000   \n",
              "\n",
              "                  hr       holiday       weekday    workingday    weathersit  \\\n",
              "count   17379.000000  17379.000000  17379.000000  17379.000000  17379.000000   \n",
              "unique           NaN           NaN           NaN           NaN           NaN   \n",
              "top              NaN           NaN           NaN           NaN           NaN   \n",
              "freq             NaN           NaN           NaN           NaN           NaN   \n",
              "mean       11.546752      0.028770      3.003683      0.682721      1.425283   \n",
              "std         6.914405      0.167165      2.005771      0.465431      0.639357   \n",
              "min         0.000000      0.000000      0.000000      0.000000      1.000000   \n",
              "25%         6.000000      0.000000      1.000000      0.000000      1.000000   \n",
              "50%        12.000000      0.000000      3.000000      1.000000      1.000000   \n",
              "75%        18.000000      0.000000      5.000000      1.000000      2.000000   \n",
              "max        23.000000      1.000000      6.000000      1.000000      4.000000   \n",
              "\n",
              "                temp         atemp           hum     windspeed        casual  \\\n",
              "count   17379.000000  17379.000000  17379.000000  17379.000000  17379.000000   \n",
              "unique           NaN           NaN           NaN           NaN           NaN   \n",
              "top              NaN           NaN           NaN           NaN           NaN   \n",
              "freq             NaN           NaN           NaN           NaN           NaN   \n",
              "mean        0.496987      0.475775      0.627229      0.190098     35.676218   \n",
              "std         0.192556      0.171850      0.192930      0.122340     49.305030   \n",
              "min         0.020000      0.000000      0.000000      0.000000      0.000000   \n",
              "25%         0.340000      0.333300      0.480000      0.104500      4.000000   \n",
              "50%         0.500000      0.484800      0.630000      0.194000     17.000000   \n",
              "75%         0.660000      0.621200      0.780000      0.253700     48.000000   \n",
              "max         1.000000      1.000000      1.000000      0.850700    367.000000   \n",
              "\n",
              "          registered           cnt  \n",
              "count   17379.000000  17379.000000  \n",
              "unique           NaN           NaN  \n",
              "top              NaN           NaN  \n",
              "freq             NaN           NaN  \n",
              "mean      153.786869    189.463088  \n",
              "std       151.357286    181.387599  \n",
              "min         0.000000      1.000000  \n",
              "25%        34.000000     40.000000  \n",
              "50%       115.000000    142.000000  \n",
              "75%       220.000000    281.000000  \n",
              "max       886.000000    977.000000  "
            ]
          },
          "execution_count": 6,
          "metadata": {},
          "output_type": "execute_result"
        }
      ],
      "source": [
        "# Menampilkan rangkuman parameter statistik pada 'tabel_jam'\n",
        "tabel_jam.describe(include = \"all\")"
      ]
    },
    {
      "cell_type": "code",
      "execution_count": 8,
      "metadata": {},
      "outputs": [
        {
          "data": {
            "text/html": [
              "<div>\n",
              "<style scoped>\n",
              "    .dataframe tbody tr th:only-of-type {\n",
              "        vertical-align: middle;\n",
              "    }\n",
              "\n",
              "    .dataframe tbody tr th {\n",
              "        vertical-align: top;\n",
              "    }\n",
              "\n",
              "    .dataframe thead th {\n",
              "        text-align: right;\n",
              "    }\n",
              "</style>\n",
              "<table border=\"1\" class=\"dataframe\">\n",
              "  <thead>\n",
              "    <tr style=\"text-align: right;\">\n",
              "      <th></th>\n",
              "      <th>holiday</th>\n",
              "    </tr>\n",
              "    <tr>\n",
              "      <th>season</th>\n",
              "      <th></th>\n",
              "    </tr>\n",
              "  </thead>\n",
              "  <tbody>\n",
              "    <tr>\n",
              "      <th>1</th>\n",
              "      <td>2</td>\n",
              "    </tr>\n",
              "    <tr>\n",
              "      <th>2</th>\n",
              "      <td>2</td>\n",
              "    </tr>\n",
              "    <tr>\n",
              "      <th>3</th>\n",
              "      <td>2</td>\n",
              "    </tr>\n",
              "    <tr>\n",
              "      <th>4</th>\n",
              "      <td>2</td>\n",
              "    </tr>\n",
              "  </tbody>\n",
              "</table>\n",
              "</div>"
            ],
            "text/plain": [
              "        holiday\n",
              "season         \n",
              "1             2\n",
              "2             2\n",
              "3             2\n",
              "4             2"
            ]
          },
          "execution_count": 8,
          "metadata": {},
          "output_type": "execute_result"
        }
      ],
      "source": [
        "# Menampilkan pivot table 'tabel_hari' dengan key \"season\" dan \"holiday\" \n",
        "tabel_hari.groupby(by = \"season\").agg({\"holiday\" : \"nunique\"})"
      ]
    },
    {
      "cell_type": "code",
      "execution_count": 9,
      "metadata": {},
      "outputs": [
        {
          "data": {
            "text/plain": [
              "array([[<Axes: title={'center': 'instant'}>,\n",
              "        <Axes: title={'center': 'season'}>,\n",
              "        <Axes: title={'center': 'yr'}>, <Axes: title={'center': 'mnth'}>],\n",
              "       [<Axes: title={'center': 'hr'}>,\n",
              "        <Axes: title={'center': 'holiday'}>,\n",
              "        <Axes: title={'center': 'weekday'}>,\n",
              "        <Axes: title={'center': 'workingday'}>],\n",
              "       [<Axes: title={'center': 'weathersit'}>,\n",
              "        <Axes: title={'center': 'temp'}>,\n",
              "        <Axes: title={'center': 'atemp'}>,\n",
              "        <Axes: title={'center': 'hum'}>],\n",
              "       [<Axes: title={'center': 'windspeed'}>,\n",
              "        <Axes: title={'center': 'casual'}>,\n",
              "        <Axes: title={'center': 'registered'}>,\n",
              "        <Axes: title={'center': 'cnt'}>]], dtype=object)"
            ]
          },
          "execution_count": 9,
          "metadata": {},
          "output_type": "execute_result"
        },
        {
          "data": {
            "image/png": "[encoded data removed]",
            "text/plain": [
              "<Figure size 640x480 with 16 Axes>"
            ]
          },
          "metadata": {},
          "output_type": "display_data"
        }
      ],
      "source": [
        "# Menampilkan plot histogram untuk 'tabel_jam'\n",
        "tabel_jam.hist()"
      ]
    },
    {
      "cell_type": "markdown",
      "metadata": {
        "id": "th_Lzl2Fkj9O"
      },
      "source": [
        "**Insight:**\n",
        "- Pada code diatas menghasilkan \n",
        "1. Rangkuman parameter statistik pada 'tabel_jam'\n",
        "2. Menampilkan pivot table 'tabel_hari' dengan key \"season\" dan \"holiday\" \n",
        "3. Menampilkan plot histogram untuk 'tabel_jam'"
      ]
    },
    {
      "cell_type": "markdown",
      "metadata": {
        "id": "zsyZjqak8DC2"
      },
      "source": [
        "## Visualization & Explanatory Analysis"
      ]
    },
    {
      "cell_type": "markdown",
      "metadata": {
        "id": "HZxOiQ6n8DC2"
      },
      "source": [
        "### Pertanyaan 1: Berapa total sewa sepeda tertinggi di setiap bulan dari tahun 2011 hingga 2012?"
      ]
    },
    {
      "cell_type": "code",
      "execution_count": 8,
      "metadata": {
        "id": "1swJUdAD8DC2"
      },
      "outputs": [
        {
          "name": "stdout",
          "output_type": "stream",
          "text": [
            "    yr  mnth     cnt\n",
            "0    0     1   38189\n",
            "1    0     2   48215\n",
            "2    0     3   64045\n",
            "3    0     4   94870\n",
            "4    0     5  135821\n",
            "5    0     6  143512\n",
            "6    0     7  141341\n",
            "7    0     8  136691\n",
            "8    0     9  127418\n",
            "9    0    10  123511\n",
            "10   0    11  102167\n",
            "11   0    12   87323\n",
            "12   1     1   96744\n",
            "13   1     2  103137\n",
            "14   1     3  164875\n",
            "15   1     4  174224\n",
            "16   1     5  195865\n",
            "17   1     6  202830\n",
            "18   1     7  203607\n",
            "19   1     8  214503\n",
            "20   1     9  218573\n",
            "21   1    10  198841\n",
            "22   1    11  152664\n",
            "23   1    12  123713\n"
          ]
        },
        {
          "name": "stderr",
          "output_type": "stream",
          "text": [
            "C:\\Users\\REDMIBOOK\\AppData\\Local\\Temp\\ipykernel_5980\\1753429610.py:13: FutureWarning: \n",
            "\n",
            "Passing `palette` without assigning `hue` is deprecated and will be removed in v0.14.0. Assign the `x` variable to `hue` and set `legend=False` for the same effect.\n",
            "\n",
            "  sb.barplot(x='month_year', y='cnt', data=monthly_bike_rentals, palette='coolwarm')\n"
          ]
        },
        {
          "data": {
            "image/png": "[encoded data removed]",
            "text/plain": [
              "<Figure size 1200x600 with 1 Axes>"
            ]
          },
          "metadata": {},
          "output_type": "display_data"
        }
      ],
      "source": [
        "# Menghitung total penyewaan sepeda per bulan dan tahun\n",
        "monthly_bike_rentals = tabel_hari.groupby(['yr', 'mnth'])['cnt'].sum().reset_index()\n",
        "print(monthly_bike_rentals)\n",
        "\n",
        "# Menambahkan kolom 'year' yang bisa dibaca manusia (2011 jika 'yr' == 0, dan 2012 jika 'yr' == 1)\n",
        "monthly_bike_rentals['year'] = monthly_bike_rentals['yr'].apply(lambda x: 2011 if x == 0 else 2012)\n",
        "\n",
        "# Menggabungkan data tahun dan bulan dalam satu kolom untuk kemudahan visualisasi\n",
        "monthly_bike_rentals['month_year'] = monthly_bike_rentals['year'].astype(str) + \"-\" + monthly_bike_rentals['mnth'].astype(str)\n",
        "\n",
        "# Membuat diagram batang untuk total penyewaan per bulan dari 2011 hingga 2012\n",
        "mpl.figure(figsize=(12, 6))\n",
        "sb.barplot(x='month_year', y='cnt', data=monthly_bike_rentals, palette='coolwarm')\n",
        "\n",
        "# Menambahkan label dan judul\n",
        "mpl.xlabel('Bulan-Tahun')\n",
        "mpl.ylabel('Total Penyewaan Sepeda')\n",
        "mpl.title('Total Penyewaan Sepeda di Setiap Bulan (2011-2012)')\n",
        "mpl.xticks(rotation=45)\n",
        "\n",
        "# Menampilkan diagram\n",
        "mpl.tight_layout()\n",
        "mpl.show()\n"
      ]
    },
    {
      "cell_type": "markdown",
      "metadata": {},
      "source": [
        "Berikut tampilan visualisasi dari banyaknya penyewa sepeda setiap bulannya dan menampilkan jumlah terbanyaknya "
      ]
    },
    {
      "cell_type": "markdown",
      "metadata": {
        "id": "DgHI7CiU8DC2"
      },
      "source": [
        "### Pertanyaan 2: Pada jam berapa penyewaan sepeda mengalami puncaknya (tahun 2011 - 2012)?"
      ]
    },
    {
      "cell_type": "code",
      "execution_count": 9,
      "metadata": {
        "id": "Go0lCsvO8DC2"
      },
      "outputs": [
        {
          "name": "stdout",
          "output_type": "stream",
          "text": [
            "    hr     cnt\n",
            "0    0   39130\n",
            "1    1   24164\n",
            "2    2   16352\n",
            "3    3    8174\n",
            "4    4    4428\n",
            "5    5   14261\n",
            "6    6   55132\n",
            "7    7  154171\n",
            "8    8  261001\n",
            "9    9  159438\n",
            "10  10  126257\n",
            "11  11  151320\n",
            "12  12  184414\n",
            "13  13  184919\n",
            "14  14  175652\n",
            "15  15  183149\n",
            "16  16  227748\n",
            "17  17  336860\n",
            "18  18  309772\n",
            "19  19  226789\n",
            "20  20  164550\n",
            "21  21  125445\n",
            "22  22   95612\n",
            "23  23   63941\n"
          ]
        },
        {
          "data": {
            "image/png": "[encoded data removed]",
            "text/plain": [
              "<Figure size 1000x600 with 1 Axes>"
            ]
          },
          "metadata": {},
          "output_type": "display_data"
        }
      ],
      "source": [
        "# Menghitung total penyewaan per jam\n",
        "hourly_bike_rentals = tabel_jam.groupby('hr')['cnt'].sum().reset_index()\n",
        "print(hourly_bike_rentals)\n",
        "\n",
        "# Membuat line chart untuk jam penyewaan\n",
        "mpl.figure(figsize=(10, 6))\n",
        "sb.lineplot(x='hr', y='cnt', data=hourly_bike_rentals, marker='o', color='blue')\n",
        "\n",
        "# Menambahkan label dan judul\n",
        "mpl.xlabel('Jam')\n",
        "mpl.ylabel('Total Penyewaan Sepeda')\n",
        "mpl.title('Total Penyewaan Sepeda di Setiap Jam (Puncak Jam Penyewaan)')\n",
        "mpl.xticks(range(0, 24)) \n",
        "mpl.tight_layout()\n",
        "mpl.show()\n"
      ]
    },
    {
      "cell_type": "markdown",
      "metadata": {},
      "source": [
        "Berikut tampilan visualisasi dari banyaknya penyewa sepeda pada setiap jamnya dan memperlihatkan jumlah terbanyaknya "
      ]
    },
    {
      "cell_type": "markdown",
      "metadata": {
        "id": "_WeHlCeX8DC2"
      },
      "source": [
        "## Conclusion"
      ]
    },
    {
      "cell_type": "markdown",
      "metadata": {
        "id": "ZTcyR48Y8DC2"
      },
      "source": [
        "Pertanyaan nomor 1 => Berdasarkan data sewa sepeda dari tahun 2011 hingga 2012, total penyewaan tertinggi di setiap bulan adalah sebagai berikut:\n",
        "\n",
        "- 2011:\n",
        "1. Tertinggi di bulan Juni (2011-6) dengan 143.512 penyewaan.\n",
        "2. Penyewaan relatif stabil dari bulan Mei hingga September dengan lebih dari 130.000 penyewaan setiap bulan.\n",
        "3. Penyewaan menurun setelah Oktober, mencapai titik terendah di bulan Desember (87.323).\n",
        "\n",
        "- 2012:\n",
        "1. Tertinggi di bulan September (2012-9) dengan 218.573 penyewaan.\n",
        "2. Penyewaan meningkat drastis pada bulan Maret (2012-3) hingga September (2012-9).\n",
        "3. Penurunan mulai terjadi pada bulan Oktober, dengan jumlah penyewaan mencapai 152.664 di bulan November, dan turun menjadi 123.713 di bulan Desember.\n",
        "\n",
        "Kesimpulan: Penyewaan tertinggi selama dua tahun ini terjadi pada September 2012 dengan 218.573 penyewaan, sementara bulan dengan penyewaan tertinggi di tahun 2011 adalah Juni dengan 143.512 penyewaan."
      ]
    },
    {
      "cell_type": "markdown",
      "metadata": {},
      "source": [
        "Pertanyaan nomor 2 => Pada jam berapa penyewaan sepeda mengalami puncaknya (tahun 2011 - 2012)?\n",
        "\n",
        "Berdasarkan data yang diperoleh dari tahun 2011 hingga 2012, penyewaan sepeda mengalami puncaknya pada jam 17:00, dengan total penyewaan sebanyak 336.860. Waktu-waktu sibuk lainnya yang juga mencatat jumlah penyewaan tinggi adalah:\n",
        "- Jam 18:00, dengan 309.772 penyewaan.\n",
        "- Jam 8:00, dengan 261.001 penyewaan.\n",
        "- Jam 16:00, dengan 227.748 penyewaan.\n",
        "\n",
        "Setelah jam 18:00, jumlah penyewaan mulai menurun, dan jumlahnya paling rendah antara jam 3:00 hingga 5:00, dengan jumlah penyewaan di bawah 20.000.\n",
        "Kesimpulan: Puncak penyewaan sepeda terjadi pada jam 17:00, diikuti oleh jam 18:00 dan jam 8:00."
      ]
    },
    {
      "cell_type": "code",
      "execution_count": 8,
      "metadata": {},
      "outputs": [
        {
          "name": "stderr",
          "output_type": "stream",
          "text": [
            "INFO: Not scanning for jupyter notebooks.\n",
            "WARNING: requirements.txt already exists, use --force to overwrite it\n"
          ]
        }
      ],
      "source": [
        "!pipreqs > requirements.txt"
      ]
    }
  ],
  "metadata": {
    "colab": {
      "provenance": []
    },
    "kernelspec": {
      "display_name": "Python 3",
      "language": "python",
      "name": "python3"
    },
    "language_info": {
      "codemirror_mode": {
        "name": "ipython",
        "version": 3
      },
      "file_extension": ".py",
      "mimetype": "text/x-python",
      "name": "python",
      "nbconvert_exporter": "python",
      "pygments_lexer": "ipython3",
      "version": "3.9.13"
    },
    "orig_nbformat": 4,
    "vscode": {
      "interpreter": {
        "hash": "972b3bf27e332e87b5379f2791f6ef9dfc79c71018c370b0d7423235e20fe4d7"
      }
    }
  },
  "nbformat": 4,
  "nbformat_minor": 0
}
